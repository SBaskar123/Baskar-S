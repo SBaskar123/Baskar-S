{
 "cells": [
  {
   "cell_type": "code",
   "execution_count": 9,
   "metadata": {},
   "outputs": [
    {
     "name": "stdout",
     "output_type": "stream",
     "text": [
      "['subban', 'renu', 'dhana', 'baskar', 'thanmozhi']\n"
     ]
    }
   ],
   "source": [
    "students = ['subban','renu','dhana','baskar','thanmozhi']\n",
    "print(students)"
   ]
  },
  {
   "cell_type": "code",
   "execution_count": 3,
   "metadata": {},
   "outputs": [
    {
     "name": "stdout",
     "output_type": "stream",
     "text": [
      "('subban', 'renu', 'dhana', 'baskar', 'thanmozhi')\n"
     ]
    }
   ],
   "source": [
    "print(students)"
   ]
  },
  {
   "cell_type": "code",
   "execution_count": 10,
   "metadata": {},
   "outputs": [
    {
     "data": {
      "text/plain": [
       "list"
      ]
     },
     "execution_count": 10,
     "metadata": {},
     "output_type": "execute_result"
    }
   ],
   "source": [
    "type(students)"
   ]
  },
  {
   "cell_type": "code",
   "execution_count": 11,
   "metadata": {},
   "outputs": [
    {
     "name": "stdout",
     "output_type": "stream",
     "text": [
      "['subban', 'renu', 'dhana', 'baskar', 'thanmozhi', 'kavitha']\n"
     ]
    }
   ],
   "source": [
    "students.append('kavitha')\n",
    "print(students)"
   ]
  },
  {
   "cell_type": "code",
   "execution_count": 13,
   "metadata": {},
   "outputs": [
    {
     "name": "stdout",
     "output_type": "stream",
     "text": [
      "['subban', 'renu', 'darunika', 'dhana', 'baskar', 'thanmozhi', 'kavitha']\n"
     ]
    }
   ],
   "source": [
    "students.insert(2,'darunika')\n",
    "print(students)"
   ]
  },
  {
   "cell_type": "code",
   "execution_count": 15,
   "metadata": {},
   "outputs": [
    {
     "name": "stdout",
     "output_type": "stream",
     "text": [
      "['subban', 'Dharunika', 'Dharunika', 'renu', 'darunika', 'dhana', 'baskar', 'thanmozhi', 'kavitha']\n"
     ]
    }
   ],
   "source": [
    "students.insert(1,'Dharunika')\n",
    "print(students)"
   ]
  },
  {
   "cell_type": "code",
   "execution_count": 16,
   "metadata": {},
   "outputs": [
    {
     "name": "stdout",
     "output_type": "stream",
     "text": [
      "['subban', 'Dharunika', 'Renuka', 'renu', 'darunika', 'dhana', 'baskar', 'thanmozhi', 'kavitha']\n"
     ]
    }
   ],
   "source": [
    "students[2] = 'Renuka'\n",
    "print(students)"
   ]
  },
  {
   "cell_type": "code",
   "execution_count": 17,
   "metadata": {},
   "outputs": [
    {
     "name": "stdout",
     "output_type": "stream",
     "text": [
      "['subban', 'MK', 'Renuka', 'renu', 'darunika', 'dhana', 'baskar', 'thanmozhi', 'kavitha']\n"
     ]
    }
   ],
   "source": [
    "students[1] = 'MK'\n",
    "print(students)"
   ]
  },
  {
   "cell_type": "code",
   "execution_count": 18,
   "metadata": {},
   "outputs": [
    {
     "name": "stdout",
     "output_type": "stream",
     "text": [
      "['subban', 'Renuka', 'renu', 'darunika', 'dhana', 'baskar', 'thanmozhi', 'kavitha']\n"
     ]
    }
   ],
   "source": [
    "del students[1]\n",
    "print(students)"
   ]
  },
  {
   "cell_type": "code",
   "execution_count": 19,
   "metadata": {},
   "outputs": [
    {
     "name": "stdout",
     "output_type": "stream",
     "text": [
      "['subban', 'Renuka', 'darunika', 'dhana', 'baskar', 'thanmozhi', 'kavitha']\n"
     ]
    }
   ],
   "source": [
    "del students[2]\n",
    "print(students)"
   ]
  },
  {
   "cell_type": "code",
   "execution_count": 23,
   "metadata": {},
   "outputs": [],
   "source": [
    "firstname = 'Subban'\n",
    "Lastname = 'Renu'"
   ]
  },
  {
   "cell_type": "code",
   "execution_count": 24,
   "metadata": {},
   "outputs": [],
   "source": [
    "fullname = f\"{firstname} {Lastname}\""
   ]
  },
  {
   "cell_type": "code",
   "execution_count": 25,
   "metadata": {},
   "outputs": [
    {
     "name": "stdout",
     "output_type": "stream",
     "text": [
      "Subban Renu\n"
     ]
    }
   ],
   "source": [
    "print(fullname)"
   ]
  },
  {
   "cell_type": "code",
   "execution_count": 26,
   "metadata": {},
   "outputs": [],
   "source": [
    "fullname = f\"good job,{firstname} {Lastname}\""
   ]
  },
  {
   "cell_type": "code",
   "execution_count": 27,
   "metadata": {},
   "outputs": [
    {
     "name": "stdout",
     "output_type": "stream",
     "text": [
      "good job,Subban Renu\n"
     ]
    }
   ],
   "source": [
    "print(fullname)"
   ]
  },
  {
   "cell_type": "code",
   "execution_count": 28,
   "metadata": {},
   "outputs": [
    {
     "name": "stdout",
     "output_type": "stream",
     "text": [
      "Good Job,Subban Renu\n"
     ]
    }
   ],
   "source": [
    "print(fullname.title())"
   ]
  },
  {
   "cell_type": "code",
   "execution_count": null,
   "metadata": {},
   "outputs": [],
   "source": []
  }
 ],
 "metadata": {
  "kernelspec": {
   "display_name": "Python 3",
   "language": "python",
   "name": "python3"
  },
  "language_info": {
   "codemirror_mode": {
    "name": "ipython",
    "version": 3
   },
   "file_extension": ".py",
   "mimetype": "text/x-python",
   "name": "python",
   "nbconvert_exporter": "python",
   "pygments_lexer": "ipython3",
   "version": "3.8.5"
  }
 },
 "nbformat": 4,
 "nbformat_minor": 4
}
