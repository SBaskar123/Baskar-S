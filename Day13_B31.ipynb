{
 "cells": [
  {
   "cell_type": "code",
   "execution_count": 3,
   "metadata": {},
   "outputs": [],
   "source": [
    "class dog:\n",
    "    def __init__(self,name,age):\n",
    "        self.name = name\n",
    "        self.age = age\n",
    "    \n",
    "    def jump(self):\n",
    "        print(f\"{self.name} is now jumping\")\n",
    "    \n",
    "    def rollover(self):\n",
    "        print(f\"{self.name} is now rollover\")\n",
    "    \n",
    "    def sleep(self):\n",
    "        print(f\"{self.name} is now sleeping\")\n",
    "        \n",
    "    def details(self):\n",
    "        pring(f\"the name of the dog is {self.name}\")\n",
    "        print(f\"{self.name} is now {self.age} years old\")\n",
    "    "
   ]
  },
  {
   "cell_type": "code",
   "execution_count": 4,
   "metadata": {},
   "outputs": [],
   "source": [
    "xobj = dog('puppy',2)"
   ]
  },
  {
   "cell_type": "code",
   "execution_count": 5,
   "metadata": {},
   "outputs": [
    {
     "name": "stdout",
     "output_type": "stream",
     "text": [
      "puppy is now jumping\n"
     ]
    }
   ],
   "source": [
    "xobj.jump()"
   ]
  },
  {
   "cell_type": "code",
   "execution_count": 6,
   "metadata": {},
   "outputs": [
    {
     "name": "stdout",
     "output_type": "stream",
     "text": [
      "puppy is now rollover\n"
     ]
    }
   ],
   "source": [
    "xobj.rollover()"
   ]
  },
  {
   "cell_type": "code",
   "execution_count": 7,
   "metadata": {},
   "outputs": [
    {
     "name": "stdout",
     "output_type": "stream",
     "text": [
      "puppy is now sleeping\n"
     ]
    }
   ],
   "source": [
    "xobj.sleep()"
   ]
  },
  {
   "cell_type": "code",
   "execution_count": null,
   "metadata": {},
   "outputs": [],
   "source": []
  },
  {
   "cell_type": "code",
   "execution_count": 9,
   "metadata": {},
   "outputs": [],
   "source": [
    "b = dog('puppy2',1)"
   ]
  },
  {
   "cell_type": "code",
   "execution_count": 10,
   "metadata": {},
   "outputs": [
    {
     "name": "stdout",
     "output_type": "stream",
     "text": [
      "puppy2 is now jumping\n"
     ]
    }
   ],
   "source": [
    "b.jump()"
   ]
  },
  {
   "cell_type": "code",
   "execution_count": 11,
   "metadata": {},
   "outputs": [
    {
     "name": "stdout",
     "output_type": "stream",
     "text": [
      "puppy2 is now rollover\n"
     ]
    }
   ],
   "source": [
    "b.rollover()"
   ]
  },
  {
   "cell_type": "code",
   "execution_count": 12,
   "metadata": {},
   "outputs": [
    {
     "name": "stdout",
     "output_type": "stream",
     "text": [
      "puppy2 is now sleeping\n"
     ]
    }
   ],
   "source": [
    "b.sleep()"
   ]
  },
  {
   "cell_type": "code",
   "execution_count": null,
   "metadata": {},
   "outputs": [],
   "source": []
  },
  {
   "cell_type": "code",
   "execution_count": 15,
   "metadata": {},
   "outputs": [
    {
     "name": "stdout",
     "output_type": "stream",
     "text": [
      "hi baskar you are doing good\n"
     ]
    }
   ],
   "source": [
    "with open('python_B31.txt') as file_object:\n",
    "    contents = file_object.read()\n",
    "print(contents)"
   ]
  },
  {
   "cell_type": "code",
   "execution_count": 17,
   "metadata": {},
   "outputs": [
    {
     "name": "stdout",
     "output_type": "stream",
     "text": [
      "data lake(DB)\n",
      "sfcd tables\n",
      "crm tables\n",
      "reltios demo\n",
      "\n",
      "\n",
      " \n",
      "\n",
      "\n",
      "\n",
      " \n",
      "\n",
      "â€‹\n",
      "\n",
      "\n",
      "\n",
      "\n",
      "\n",
      "\n",
      "\n",
      " \n",
      "\n",
      " \n",
      "\n",
      "Thanks,\n",
      "\n",
      "Baskar S\n",
      "\n",
      "\n",
      "Flow of Customer 360 degrees- Initial Draft\n",
      "\n",
      "\n"
     ]
    }
   ],
   "source": [
    "with open('Examples.txt') as file_object:\n",
    "    contents = file_object.read()\n",
    "print(contents)"
   ]
  },
  {
   "cell_type": "code",
   "execution_count": 18,
   "metadata": {},
   "outputs": [],
   "source": [
    "filename = 'examples.txt'"
   ]
  },
  {
   "cell_type": "code",
   "execution_count": 20,
   "metadata": {},
   "outputs": [
    {
     "name": "stdout",
     "output_type": "stream",
     "text": [
      "data lake(DB)\n",
      "sfcd tables\n",
      "crm tables\n",
      "reltios demo\n",
      "\n",
      "\n",
      " \n",
      "\n",
      "\n",
      "\n",
      " \n",
      "\n",
      "â€‹\n",
      "\n",
      "\n",
      "\n",
      "\n",
      "\n",
      "\n",
      "\n",
      " \n",
      "\n",
      " \n",
      "\n",
      "Thanks,\n",
      "\n",
      "Baskar S\n",
      "\n",
      "\n",
      "Flow of Customer 360 degrees- Initial Draft\n",
      "\n",
      "\n"
     ]
    }
   ],
   "source": [
    "with open(filename) as baskar:\n",
    "    b = baskar.read()\n",
    "print(b)"
   ]
  },
  {
   "cell_type": "code",
   "execution_count": 24,
   "metadata": {},
   "outputs": [],
   "source": [
    "with open(filename,'w') as b:\n",
    "    c = b.write(\"hi baskar how are you doing\")"
   ]
  },
  {
   "cell_type": "code",
   "execution_count": 26,
   "metadata": {},
   "outputs": [
    {
     "name": "stdout",
     "output_type": "stream",
     "text": [
      "hi baskar how are you doing\n"
     ]
    }
   ],
   "source": [
    "with open(filename) as baskar:\n",
    "    b = baskar.read()\n",
    "print(b)"
   ]
  },
  {
   "cell_type": "code",
   "execution_count": 39,
   "metadata": {},
   "outputs": [],
   "source": [
    "with open(filename,'a') as b:\n",
    "    s = b.write('\\n\\thi baskar how r u dng,finally you are able to write programs')"
   ]
  },
  {
   "cell_type": "code",
   "execution_count": 40,
   "metadata": {},
   "outputs": [
    {
     "name": "stdout",
     "output_type": "stream",
     "text": [
      "hi baskar how are you doing\n",
      "hi baskar how r u dng\n",
      "hi baskar how r u dng,finally you are able to write programs\n",
      "\thi baskar how r u dng,finally you are able to write programs\n"
     ]
    }
   ],
   "source": [
    "with open(filename) as baskar:\n",
    "    b = baskar.read()\n",
    "print(b)"
   ]
  },
  {
   "cell_type": "code",
   "execution_count": null,
   "metadata": {},
   "outputs": [],
   "source": []
  }
 ],
 "metadata": {
  "kernelspec": {
   "display_name": "Python 3",
   "language": "python",
   "name": "python3"
  },
  "language_info": {
   "codemirror_mode": {
    "name": "ipython",
    "version": 3
   },
   "file_extension": ".py",
   "mimetype": "text/x-python",
   "name": "python",
   "nbconvert_exporter": "python",
   "pygments_lexer": "ipython3",
   "version": "3.8.5"
  }
 },
 "nbformat": 4,
 "nbformat_minor": 4
}
