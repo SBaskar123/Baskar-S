{
 "cells": [
  {
   "cell_type": "code",
   "execution_count": 1,
   "metadata": {},
   "outputs": [],
   "source": [
    "students = ['subban','renu','dhana','baskar','than','kavi','tharu']"
   ]
  },
  {
   "cell_type": "code",
   "execution_count": 2,
   "metadata": {},
   "outputs": [
    {
     "name": "stdout",
     "output_type": "stream",
     "text": [
      "['subban', 'renu', 'dhana', 'baskar', 'than', 'kavi', 'tharu']\n"
     ]
    }
   ],
   "source": [
    "print(students)"
   ]
  },
  {
   "cell_type": "code",
   "execution_count": 3,
   "metadata": {},
   "outputs": [
    {
     "data": {
      "text/plain": [
       "list"
      ]
     },
     "execution_count": 3,
     "metadata": {},
     "output_type": "execute_result"
    }
   ],
   "source": [
    "type(students)"
   ]
  },
  {
   "cell_type": "code",
   "execution_count": 4,
   "metadata": {},
   "outputs": [
    {
     "name": "stdout",
     "output_type": "stream",
     "text": [
      "good work guys,Subban\n"
     ]
    }
   ],
   "source": [
    "print(f\"good work guys,{students[0].title()}\")"
   ]
  },
  {
   "cell_type": "code",
   "execution_count": 5,
   "metadata": {},
   "outputs": [
    {
     "name": "stdout",
     "output_type": "stream",
     "text": [
      "good work dude,Renu\n"
     ]
    }
   ],
   "source": [
    "print(f\"good work dude,{students[1].title()}\")"
   ]
  },
  {
   "cell_type": "code",
   "execution_count": 9,
   "metadata": {},
   "outputs": [
    {
     "name": "stdout",
     "output_type": "stream",
     "text": [
      "keep up the good work, Subban\n",
      "keep up the good work, Renu\n",
      "keep up the good work, Dhana\n",
      "keep up the good work, Baskar\n",
      "keep up the good work, Than\n",
      "keep up the good work, Kavi\n",
      "keep up the good work, Tharu\n"
     ]
    }
   ],
   "source": [
    "for b in students:\n",
    "    print(f\"keep up the good work, {b.title()}\")"
   ]
  },
  {
   "cell_type": "code",
   "execution_count": 10,
   "metadata": {},
   "outputs": [
    {
     "name": "stdout",
     "output_type": "stream",
     "text": [
      "subban\n",
      "renu\n",
      "dhana\n",
      "baskar\n",
      "than\n",
      "kavi\n",
      "tharu\n"
     ]
    }
   ],
   "source": [
    "for b in students:\n",
    "    print(b)"
   ]
  },
  {
   "cell_type": "code",
   "execution_count": 13,
   "metadata": {},
   "outputs": [
    {
     "name": "stdout",
     "output_type": "stream",
     "text": [
      "['subban', 'renu', 'dhana', 'baskar', 'than', 'kavi', 'tharu']\n"
     ]
    }
   ],
   "source": [
    "print(students)"
   ]
  },
  {
   "cell_type": "code",
   "execution_count": 16,
   "metadata": {},
   "outputs": [
    {
     "name": "stdout",
     "output_type": "stream",
     "text": [
      "keep up the good work, Subban\n",
      "i am looking forward to send on daily baces, Subban\n",
      "keep up the good work, Renu\n",
      "i am looking forward to send on daily baces, Renu\n",
      "keep up the good work, Dhana\n",
      "i am looking forward to send on daily baces, Dhana\n",
      "keep up the good work, Baskar\n",
      "i am looking forward to send on daily baces, Baskar\n",
      "keep up the good work, Than\n",
      "i am looking forward to send on daily baces, Than\n",
      "keep up the good work, Kavi\n",
      "i am looking forward to send on daily baces, Kavi\n",
      "keep up the good work, Tharu\n",
      "i am looking forward to send on daily baces, Tharu\n"
     ]
    }
   ],
   "source": [
    "for b in students:\n",
    "    print(f\"keep up the good work, {b.title()}\")\n",
    "    print(f\"i am looking forward to send on daily baces, {b.title()}\")"
   ]
  },
  {
   "cell_type": "code",
   "execution_count": 22,
   "metadata": {},
   "outputs": [
    {
     "name": "stdout",
     "output_type": "stream",
     "text": [
      "keep up the good work, Subban\n",
      "i am looking forward to send on daily baces, Subban.\n",
      "\n",
      "keep up the good work, Renu\n",
      "i am looking forward to send on daily baces, Renu.\n",
      "\n",
      "keep up the good work, Dhana\n",
      "i am looking forward to send on daily baces, Dhana.\n",
      "\n",
      "keep up the good work, Baskar\n",
      "i am looking forward to send on daily baces, Baskar.\n",
      "\n",
      "keep up the good work, Than\n",
      "i am looking forward to send on daily baces, Than.\n",
      "\n",
      "keep up the good work, Kavi\n",
      "i am looking forward to send on daily baces, Kavi.\n",
      "\n",
      "keep up the good work, Tharu\n",
      "i am looking forward to send on daily baces, Tharu.\n",
      "\n"
     ]
    }
   ],
   "source": [
    "for b in students:\n",
    "    print(f\"keep up the good work, {b.title()}\")\n",
    "    print(f\"i am looking forward to send on daily baces, {b.title()}.\\n\")"
   ]
  },
  {
   "cell_type": "code",
   "execution_count": 24,
   "metadata": {},
   "outputs": [
    {
     "name": "stdout",
     "output_type": "stream",
     "text": [
      "keep up the good work, Subban\n",
      "i am looking forward to send on daily baces, Subban.\n",
      "\n",
      "keep up the good work, Renu\n",
      "i am looking forward to send on daily baces, Renu.\n",
      "\n",
      "keep up the good work, Dhana\n",
      "i am looking forward to send on daily baces, Dhana.\n",
      "\n",
      "keep up the good work, Baskar\n",
      "i am looking forward to send on daily baces, Baskar.\n",
      "\n",
      "keep up the good work, Than\n",
      "i am looking forward to send on daily baces, Than.\n",
      "\n",
      "keep up the good work, Kavi\n",
      "i am looking forward to send on daily baces, Kavi.\n",
      "\n",
      "keep up the good work, Tharu\n",
      "i am looking forward to send on daily baces, Tharu.\n",
      "\n",
      "Thanks for your response\n"
     ]
    }
   ],
   "source": [
    "for b in students:\n",
    "    print(f\"keep up the good work, {b.title()}\")\n",
    "    print(f\"i am looking forward to send on daily baces, {b.title()}.\\n\")\n",
    "\n",
    "print(\"Thanks for your response\")"
   ]
  },
  {
   "cell_type": "code",
   "execution_count": 25,
   "metadata": {},
   "outputs": [],
   "source": [
    "cars = ['kia','hyundai','bmw','audi','benz','suzuki','honda']"
   ]
  },
  {
   "cell_type": "code",
   "execution_count": 26,
   "metadata": {},
   "outputs": [
    {
     "data": {
      "text/plain": [
       "7"
      ]
     },
     "execution_count": 26,
     "metadata": {},
     "output_type": "execute_result"
    }
   ],
   "source": [
    "len(cars)"
   ]
  },
  {
   "cell_type": "code",
   "execution_count": null,
   "metadata": {},
   "outputs": [],
   "source": []
  }
 ],
 "metadata": {
  "kernelspec": {
   "display_name": "Python 3",
   "language": "python",
   "name": "python3"
  },
  "language_info": {
   "codemirror_mode": {
    "name": "ipython",
    "version": 3
   },
   "file_extension": ".py",
   "mimetype": "text/x-python",
   "name": "python",
   "nbconvert_exporter": "python",
   "pygments_lexer": "ipython3",
   "version": "3.8.5"
  }
 },
 "nbformat": 4,
 "nbformat_minor": 4
}
